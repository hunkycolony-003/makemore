{
 "cells": [
  {
   "cell_type": "code",
   "execution_count": 1,
   "id": "131e085e-7a94-4086-8c3b-a9b305db66f8",
   "metadata": {},
   "outputs": [],
   "source": [
    "import torch"
   ]
  },
  {
   "cell_type": "code",
   "execution_count": 2,
   "id": "e6648e76-140e-4ab0-b68d-cbe8a0d689da",
   "metadata": {},
   "outputs": [],
   "source": [
    "words = open(\"../names.txt\", \"r\").read().splitlines()"
   ]
  },
  {
   "cell_type": "code",
   "execution_count": 3,
   "id": "4ee9c22d-3d49-421d-97f4-99dd53f8c9a1",
   "metadata": {},
   "outputs": [
    {
     "name": "stdout",
     "output_type": "stream",
     "text": [
      ". e m\n",
      "e m m\n",
      "m m a\n",
      "m a .\n"
     ]
    }
   ],
   "source": [
    "for word in words[:1]:\n",
    "    chs = [\".\"] + list(word) + [\".\"]\n",
    "    for ch1, ch2, ch3 in zip(chs, chs[1:], chs[2:]):\n",
    "        print(ch1, ch2, ch3)"
   ]
  },
  {
   "cell_type": "code",
   "execution_count": 4,
   "id": "254aac34-e0b6-416a-9ae8-08ace81ec564",
   "metadata": {},
   "outputs": [],
   "source": [
    "chars = ['.'] + sorted(list(set(''.join(words))))\n",
    "stoi = {s:i for i, s in enumerate(chars)}\n",
    "itos = {i:s for i, s in enumerate(chars)}"
   ]
  },
  {
   "cell_type": "code",
   "execution_count": 5,
   "id": "49ea9727-5864-41cf-b819-7743c30f0956",
   "metadata": {},
   "outputs": [],
   "source": [
    "N = torch.zeros((27, 27, 27), dtype=torch.int32)"
   ]
  },
  {
   "cell_type": "code",
   "execution_count": 6,
   "id": "b6af1abc-ac93-47ce-9985-d12b3d2ce696",
   "metadata": {},
   "outputs": [],
   "source": [
    "for word in words:\n",
    "    chs = [\".\"] + list(word) + [\".\"]\n",
    "    for ch1, ch2, ch3 in zip(chs, chs[1:], chs[2:]):\n",
    "        ch1 = stoi[ch1]\n",
    "        ch2 = stoi[ch2]\n",
    "        ch3 = stoi[ch3]\n",
    "\n",
    "        N[ch1, ch2, ch3] += 1"
   ]
  },
  {
   "cell_type": "code",
   "execution_count": 7,
   "id": "742436a3-231b-484d-880a-a4ac36d4fb2f",
   "metadata": {},
   "outputs": [],
   "source": [
    "# 0, 0, :\n",
    "# :, 0, 0\n",
    "# :, 0, :"
   ]
  },
  {
   "cell_type": "code",
   "execution_count": 8,
   "id": "b59b5be7-4daf-40b8-94a4-2066188fc0f0",
   "metadata": {},
   "outputs": [],
   "source": [
    "# Calculate probability distribution\n",
    "\n",
    "P = (N+1).float()\n",
    "P /= P.sum(axis=2, keepdim=True)"
   ]
  },
  {
   "cell_type": "code",
   "execution_count": 9,
   "id": "e502c21a-68fc-43db-a121-4856c7b2e6b8",
   "metadata": {},
   "outputs": [
    {
     "data": {
      "text/plain": [
       "torch.Size([27, 27, 1])"
      ]
     },
     "execution_count": 9,
     "metadata": {},
     "output_type": "execute_result"
    }
   ],
   "source": [
    " P.sum(axis=2, keepdim=True).shape"
   ]
  },
  {
   "cell_type": "code",
   "execution_count": 10,
   "id": "1ca6a500-c98e-4895-ab65-9080daf8f2d5",
   "metadata": {},
   "outputs": [],
   "source": [
    "init = P[0].flatten()\n",
    "init /= init.sum()"
   ]
  },
  {
   "cell_type": "code",
   "execution_count": 11,
   "id": "fdb2110c-c33d-4525-9f49-29648729fd1f",
   "metadata": {},
   "outputs": [
    {
     "name": "stdout",
     "output_type": "stream",
     "text": [
      "aimittain.\n",
      "umtai.\n",
      "aside.\n",
      "alysuzusfxx.\n",
      "ika.\n",
      "bryuvinqeven.\n",
      "hazee.\n",
      "yen.\n",
      "aliemmy.\n",
      "lexane.\n"
     ]
    }
   ],
   "source": [
    "g = torch.Generator().manual_seed(2147483647)\n",
    "\n",
    "for _ in range(10):\n",
    "    ix1 = 0; ix2 = torch.multinomial(init, 1, replacement=True, generator=g).item() % 27 # inital bigram\n",
    "    out = [itos[ix2]]\n",
    "    while True:\n",
    "    \n",
    "        temp = ix1\n",
    "        ix1 = ix2\n",
    "        ix2 = torch.multinomial(P[temp, ix2], num_samples=1, replacement=True, generator=g).item()\n",
    "        out.append(itos[ix2])\n",
    "        \n",
    "        if ix2 == 0:\n",
    "            break\n",
    "    print(\"\".join(out))\n"
   ]
  },
  {
   "cell_type": "code",
   "execution_count": 12,
   "id": "4451e694-32d5-4a19-8721-6bfe5383aa8f",
   "metadata": {},
   "outputs": [
    {
     "data": {
      "text/plain": [
       "tensor(0.1269)"
      ]
     },
     "execution_count": 12,
     "metadata": {},
     "output_type": "execute_result"
    }
   ],
   "source": [
    "# Check the probability of trigram\n",
    "trig = \"emm\"\n",
    "P[*[stoi[s] for s in trig]]"
   ]
  },
  {
   "cell_type": "code",
   "execution_count": 13,
   "id": "5d7fc3fa-7e57-43f3-ad51-64ff8c09b166",
   "metadata": {},
   "outputs": [],
   "source": [
    "# calculate the loss\n",
    "log_likelyhood = 0\n",
    "num = 0\n",
    "\n",
    "for word in words:\n",
    "    chs = [\".\"] + list(word) + [\".\"]\n",
    "    for ch1, ch2, ch3 in zip(chs, chs[1:], chs[2:]):\n",
    "        ch1 = stoi[ch1]\n",
    "        ch2 = stoi[ch2]\n",
    "        ch3 = stoi[ch3]\n",
    "\n",
    "        log_likelyhood += torch.log(P[ch1, ch2, ch3]) \n",
    "        num += 1\n",
    "\n",
    "nll = -log_likelyhood / num"
   ]
  },
  {
   "cell_type": "code",
   "execution_count": 14,
   "id": "d4fa66fe-864d-4d91-9b78-9b338cbcdff2",
   "metadata": {},
   "outputs": [
    {
     "data": {
      "text/plain": [
       "tensor(2.6309)"
      ]
     },
     "execution_count": 14,
     "metadata": {},
     "output_type": "execute_result"
    }
   ],
   "source": [
    "nll"
   ]
  },
  {
   "cell_type": "markdown",
   "id": "5c3cba03-81c1-4de9-ae61-a7cecdedbc7e",
   "metadata": {},
   "source": [
    "## using neural nets"
   ]
  },
  {
   "cell_type": "code",
   "execution_count": 146,
   "id": "b83a0f3e-c97c-4941-8d4c-0bb7eedf5c37",
   "metadata": {},
   "outputs": [],
   "source": [
    "import random"
   ]
  },
  {
   "cell_type": "code",
   "execution_count": 163,
   "id": "2ec9b171-3a85-4788-91bb-94202892ca22",
   "metadata": {},
   "outputs": [],
   "source": [
    "xs = []\n",
    "ys = []\n",
    "\n",
    "training_set = words[:80*len(words) // 100]\n",
    "dev_set = words[80*len(words) // 100 : 90 * len(words) // 100]\n",
    "test_set = words[90 * len(words) // 100:]\n",
    "\n",
    "for word in training_set:\n",
    "    chs = [\".\"] + list(word) + [\".\"]\n",
    "    for ch1, ch2, ch3 in zip(chs, chs[1:], chs[2:]):\n",
    "        ch1 = stoi[ch1]\n",
    "        ch2 = stoi[ch2]\n",
    "        ch3 = stoi[ch3]\n",
    "\n",
    "        xs.append((ch1, ch2))\n",
    "        ys.append(ch3)\n",
    "\n",
    "xs = torch.tensor(xs)\n",
    "ys = torch.tensor(ys)\n",
    "num = ys.nelement()"
   ]
  },
  {
   "cell_type": "code",
   "execution_count": 17,
   "id": "fc8fc57c-4fe1-4868-b9bf-cf846d464b0f",
   "metadata": {},
   "outputs": [],
   "source": [
    "import torch.nn.functional as F"
   ]
  },
  {
   "cell_type": "code",
   "execution_count": 98,
   "id": "bea4d472-37f6-4e19-a32c-1eb0741fdbb0",
   "metadata": {},
   "outputs": [],
   "source": [
    "g = torch.Generator().manual_seed(2147483647)\n",
    "w = torch.randn((27, 27, 27), generator=g, requires_grad=True)"
   ]
  },
  {
   "cell_type": "code",
   "execution_count": 165,
   "id": "1e045d4e-99f1-49e6-829e-e8d3c49bac9b",
   "metadata": {},
   "outputs": [
    {
     "name": "stdout",
     "output_type": "stream",
     "text": [
      "2.2910\n"
     ]
    }
   ],
   "source": [
    "# forward pass\n",
    "logits = torch.stack([w[*x] for x in xs])\n",
    "\n",
    "# softmax\n",
    "counts = logits.exp()\n",
    "probs = counts / counts.sum(axis=1, keepdim=True)\n",
    "\n",
    "loss = -probs[torch.arange(num), ys].log().mean()\n",
    "\n",
    "# backward pass\n",
    "w.grad = None\n",
    "loss.backward()\n",
    "\n",
    "# update parameters\n",
    "w.data -= 100 * w.grad\n",
    "    \n",
    "print(f\"{loss.data.item():.4f}\")"
   ]
  },
  {
   "cell_type": "code",
   "execution_count": 143,
   "id": "34678f9f-27c9-4b76-9b14-c10dcc6fe240",
   "metadata": {},
   "outputs": [
    {
     "data": {
      "text/plain": [
       "torch.Size([196113, 27])"
      ]
     },
     "execution_count": 143,
     "metadata": {},
     "output_type": "execute_result"
    }
   ],
   "source": [
    "# one_hot generates (len(input), num_classes) shape tensor ?\n",
    "# forward pass\n",
    "#logits = w[xs]\n",
    "\n",
    "# softmax\n",
    "logits = torch.stack([w[*x] for x in xs])\n",
    "\n",
    "# softmax\n",
    "counts = logits.exp()\n",
    "probs = counts / counts.sum(axis=1, keepdim=True)\n",
    "\n",
    "probs.shape"
   ]
  },
  {
   "cell_type": "code",
   "execution_count": null,
   "id": "1a7a73b1-963e-4e1a-8b7d-7ae5b0f3795c",
   "metadata": {},
   "outputs": [],
   "source": [
    "print(x_enc.shape)\n",
    "print(w.shape)"
   ]
  },
  {
   "cell_type": "code",
   "execution_count": 88,
   "id": "4b0ffa90-dfe9-457c-b876-10a8ebb0f6c0",
   "metadata": {},
   "outputs": [
    {
     "ename": "RuntimeError",
     "evalue": "prob_dist must be 1 or 2 dim",
     "output_type": "error",
     "traceback": [
      "\u001b[0;31m---------------------------------------------------------------------------\u001b[0m",
      "\u001b[0;31mRuntimeError\u001b[0m                              Traceback (most recent call last)",
      "Cell \u001b[0;32mIn[88], line 12\u001b[0m\n\u001b[1;32m     10\u001b[0m temp \u001b[38;5;241m=\u001b[39m ix1\n\u001b[1;32m     11\u001b[0m ix1 \u001b[38;5;241m=\u001b[39m ix2\n\u001b[0;32m---> 12\u001b[0m ix2 \u001b[38;5;241m=\u001b[39m \u001b[43mtorch\u001b[49m\u001b[38;5;241;43m.\u001b[39;49m\u001b[43mmultinomial\u001b[49m\u001b[43m(\u001b[49m\u001b[43mprobs\u001b[49m\u001b[43m[\u001b[49m\u001b[43mtemp\u001b[49m\u001b[43m,\u001b[49m\u001b[43m \u001b[49m\u001b[43mix2\u001b[49m\u001b[43m]\u001b[49m\u001b[43m,\u001b[49m\u001b[43m \u001b[49m\u001b[43mnum_samples\u001b[49m\u001b[38;5;241;43m=\u001b[39;49m\u001b[38;5;241;43m1\u001b[39;49m\u001b[43m,\u001b[49m\u001b[43m \u001b[49m\u001b[43mreplacement\u001b[49m\u001b[38;5;241;43m=\u001b[39;49m\u001b[38;5;28;43;01mTrue\u001b[39;49;00m\u001b[43m,\u001b[49m\u001b[43m \u001b[49m\u001b[43mgenerator\u001b[49m\u001b[38;5;241;43m=\u001b[39;49m\u001b[43mg\u001b[49m\u001b[43m)\u001b[49m\u001b[38;5;241m.\u001b[39mitem()\n\u001b[1;32m     13\u001b[0m out\u001b[38;5;241m.\u001b[39mappend(itos[ix2])\n\u001b[1;32m     15\u001b[0m \u001b[38;5;28;01mif\u001b[39;00m ix2 \u001b[38;5;241m==\u001b[39m \u001b[38;5;241m0\u001b[39m:\n",
      "\u001b[0;31mRuntimeError\u001b[0m: prob_dist must be 1 or 2 dim"
     ]
    }
   ],
   "source": [
    "g = torch.Generator().manual_seed(2147483647)\n",
    "\n",
    "counts = logits.exp()\n",
    "probs = counts / counts.sum(axis=1, keepdim=True)\n",
    "\n",
    "for _ in range(10):\n",
    "    ix1 = 0; ix2 = torch.multinomial(init, 1, replacement=True, generator=g).item() % 27 # inital bigram\n",
    "    out = [itos[ix2]]\n",
    "    while True:\n",
    "    \n",
    "        temp = ix1\n",
    "        ix1 = ix2\n",
    "\n",
    "        logits = w[(temp, ix2)]\n",
    "        ix2 = torch.multinomial(probs[temp, ix2], num_samples=1, replacement=True, generator=g).item()\n",
    "        out.append(itos[ix2])\n",
    "        \n",
    "        if ix2 == 0:\n",
    "            break\n",
    "    print(\"\".join(out))"
   ]
  },
  {
   "cell_type": "code",
   "execution_count": 19,
   "id": "9f259b13-d4f8-433b-b134-e2b796b5768d",
   "metadata": {},
   "outputs": [
    {
     "data": {
      "text/plain": [
       "torch.Size([196113, 27])"
      ]
     },
     "execution_count": 19,
     "metadata": {},
     "output_type": "execute_result"
    }
   ],
   "source": [
    "(w[xs]).shape"
   ]
  },
  {
   "cell_type": "code",
   "execution_count": null,
   "id": "097f1eca-edd2-4e87-ad6d-cf6ee95f928c",
   "metadata": {},
   "outputs": [],
   "source": []
  }
 ],
 "metadata": {
  "kernelspec": {
   "display_name": "Python 3 (ipykernel)",
   "language": "python",
   "name": "python3"
  },
  "language_info": {
   "codemirror_mode": {
    "name": "ipython",
    "version": 3
   },
   "file_extension": ".py",
   "mimetype": "text/x-python",
   "name": "python",
   "nbconvert_exporter": "python",
   "pygments_lexer": "ipython3",
   "version": "3.12.4"
  }
 },
 "nbformat": 4,
 "nbformat_minor": 5
}
